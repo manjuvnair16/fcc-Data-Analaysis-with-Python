{
  "nbformat": 4,
  "nbformat_minor": 0,
  "metadata": {
    "colab": {
      "name": "NumpyExercises.ipynb",
      "provenance": [],
      "collapsed_sections": [],
      "authorship_tag": "ABX9TyN2scVd8Bh3cUXIc+ba4wYl",
      "include_colab_link": true
    },
    "kernelspec": {
      "name": "python3",
      "display_name": "Python 3"
    },
    "language_info": {
      "name": "python"
    }
  },
  "cells": [
    {
      "cell_type": "markdown",
      "metadata": {
        "id": "view-in-github",
        "colab_type": "text"
      },
      "source": [
        "<a href=\"https://colab.research.google.com/github/manjuvnair16/fcc-Data-Analysis-with-Python/blob/main/Intro-to-NumPy/NumpyExercises.ipynb\" target=\"_parent\"><img src=\"https://colab.research.google.com/assets/colab-badge.svg\" alt=\"Open In Colab\"/></a>"
      ]
    },
    {
      "cell_type": "code",
      "metadata": {
        "id": "f9DlivTpqzdP"
      },
      "source": [
        "import numpy as np"
      ],
      "execution_count": null,
      "outputs": []
    },
    {
      "cell_type": "code",
      "metadata": {
        "colab": {
          "base_uri": "https://localhost:8080/"
        },
        "id": "qp4_BB3yrMYS",
        "outputId": "4bd9f414-d604-4355-88b7-506c9022eecf"
      },
      "source": [
        "print(np.__version__)"
      ],
      "execution_count": null,
      "outputs": [
        {
          "output_type": "stream",
          "text": [
            "1.19.5\n"
          ],
          "name": "stdout"
        }
      ]
    },
    {
      "cell_type": "markdown",
      "metadata": {
        "id": "B61gL6AKq1FM"
      },
      "source": [
        "\n",
        "![purple-divider](https://user-images.githubusercontent.com/7065401/52071927-c1cd7100-2562-11e9-908a-dde91ba14e59.png)\n",
        "\n",
        "## Array Creation"
      ]
    },
    {
      "cell_type": "markdown",
      "metadata": {
        "id": "wIMAQJuH0U3w"
      },
      "source": [
        "### **Create a numpy array of size 10, filled with zeros.**"
      ]
    },
    {
      "cell_type": "code",
      "metadata": {
        "colab": {
          "base_uri": "https://localhost:8080/"
        },
        "id": "a2rBvqvS0aX8",
        "outputId": "259fdb64-2388-4609-c2fd-bd97f78f9be4"
      },
      "source": [
        "np.array([0]*10)"
      ],
      "execution_count": null,
      "outputs": [
        {
          "output_type": "execute_result",
          "data": {
            "text/plain": [
              "array([0, 0, 0, 0, 0, 0, 0, 0, 0, 0])"
            ]
          },
          "metadata": {
            "tags": []
          },
          "execution_count": 12
        }
      ]
    },
    {
      "cell_type": "code",
      "metadata": {
        "colab": {
          "base_uri": "https://localhost:8080/"
        },
        "id": "zv33bmtF0OM4",
        "outputId": "cafef5a5-1623-4f0b-da5a-051252f92e67"
      },
      "source": [
        "np.zeros(10)"
      ],
      "execution_count": null,
      "outputs": [
        {
          "output_type": "execute_result",
          "data": {
            "text/plain": [
              "array([0., 0., 0., 0., 0., 0., 0., 0., 0., 0.])"
            ]
          },
          "metadata": {
            "tags": []
          },
          "execution_count": 14
        }
      ]
    },
    {
      "cell_type": "markdown",
      "metadata": {
        "id": "28MioiKl1BGV"
      },
      "source": [
        "###**Create a numpy array with values ranging from 10 to 49**"
      ]
    },
    {
      "cell_type": "code",
      "metadata": {
        "colab": {
          "base_uri": "https://localhost:8080/"
        },
        "id": "dJ2bsWbS1Nnt",
        "outputId": "62b4c301-e789-4fb7-a5b0-669a4e4b538b"
      },
      "source": [
        " np.arange(10,50)"
      ],
      "execution_count": null,
      "outputs": [
        {
          "output_type": "execute_result",
          "data": {
            "text/plain": [
              "array([10, 11, 12, 13, 14, 15, 16, 17, 18, 19, 20, 21, 22, 23, 24, 25, 26,\n",
              "       27, 28, 29, 30, 31, 32, 33, 34, 35, 36, 37, 38, 39, 40, 41, 42, 43,\n",
              "       44, 45, 46, 47, 48, 49])"
            ]
          },
          "metadata": {
            "tags": []
          },
          "execution_count": 16
        }
      ]
    },
    {
      "cell_type": "markdown",
      "metadata": {
        "id": "HQRzC2GP1nj6"
      },
      "source": [
        "### **Create a numpy matrix of 2*2 integers, filled with ones.**"
      ]
    },
    {
      "cell_type": "code",
      "metadata": {
        "colab": {
          "base_uri": "https://localhost:8080/"
        },
        "id": "XIgcaTGk1sHc",
        "outputId": "5679dea1-1873-4f0f-9175-cac952b69e0b"
      },
      "source": [
        "np.ones([2,2], dtype=np.int)"
      ],
      "execution_count": null,
      "outputs": [
        {
          "output_type": "execute_result",
          "data": {
            "text/plain": [
              "array([[1, 1],\n",
              "       [1, 1]])"
            ]
          },
          "metadata": {
            "tags": []
          },
          "execution_count": 20
        }
      ]
    },
    {
      "cell_type": "markdown",
      "metadata": {
        "id": "GTwYkSBv2dzM"
      },
      "source": [
        "### **Create a numpy matrix of 3*2 float numbers, filled with ones.**"
      ]
    },
    {
      "cell_type": "code",
      "metadata": {
        "colab": {
          "base_uri": "https://localhost:8080/"
        },
        "id": "NEO4vrL32iAe",
        "outputId": "c415ad64-ff78-4b03-e24a-ee1bbae1ef91"
      },
      "source": [
        "np.ones([3,2],dtype=np.float)"
      ],
      "execution_count": null,
      "outputs": [
        {
          "output_type": "execute_result",
          "data": {
            "text/plain": [
              "array([[1., 1.],\n",
              "       [1., 1.],\n",
              "       [1., 1.]])"
            ]
          },
          "metadata": {
            "tags": []
          },
          "execution_count": 22
        }
      ]
    },
    {
      "cell_type": "markdown",
      "metadata": {
        "id": "HVofwIM52qgZ"
      },
      "source": [
        "### **Given the X numpy array, create a new numpy array with the same shape and type as X, filled with ones.**"
      ]
    },
    {
      "cell_type": "code",
      "metadata": {
        "id": "PgcnZOag2um2"
      },
      "source": [
        "X = np.arange(4, dtype=np.int)\n"
      ],
      "execution_count": null,
      "outputs": []
    },
    {
      "cell_type": "code",
      "metadata": {
        "colab": {
          "base_uri": "https://localhost:8080/"
        },
        "id": "9jf3ugHr3P18",
        "outputId": "ffca4d0e-0fd6-4b73-fcda-a4c75b833cf2"
      },
      "source": [
        "X"
      ],
      "execution_count": null,
      "outputs": [
        {
          "output_type": "execute_result",
          "data": {
            "text/plain": [
              "array([0, 1, 2, 3])"
            ]
          },
          "metadata": {
            "tags": []
          },
          "execution_count": 24
        }
      ]
    },
    {
      "cell_type": "code",
      "metadata": {
        "colab": {
          "base_uri": "https://localhost:8080/"
        },
        "id": "SQ0GTBrO3Rea",
        "outputId": "7ff26970-bafb-43c1-9bd2-372cfc4ffdaa"
      },
      "source": [
        "np.ones_like(X)"
      ],
      "execution_count": null,
      "outputs": [
        {
          "output_type": "execute_result",
          "data": {
            "text/plain": [
              "array([1, 1, 1, 1])"
            ]
          },
          "metadata": {
            "tags": []
          },
          "execution_count": 26
        }
      ]
    },
    {
      "cell_type": "markdown",
      "metadata": {
        "id": "rT9uXPAh3bH2"
      },
      "source": [
        "### **Given the X numpy matrix, create a new numpy matrix with the same shape and type as X, filled with zeros.**"
      ]
    },
    {
      "cell_type": "code",
      "metadata": {
        "id": "_XqpSwVgMEE6"
      },
      "source": [
        "X = np.array([[1,2,3], [4,5,6]], dtype=np.int)"
      ],
      "execution_count": null,
      "outputs": []
    },
    {
      "cell_type": "code",
      "metadata": {
        "colab": {
          "base_uri": "https://localhost:8080/"
        },
        "id": "cp7c6Hh03eiJ",
        "outputId": "b40ce5a7-2d44-429c-88c2-3c0f0fb7f6e3"
      },
      "source": [
        "np.zeros_like(X)"
      ],
      "execution_count": null,
      "outputs": [
        {
          "output_type": "execute_result",
          "data": {
            "text/plain": [
              "array([[0, 0, 0],\n",
              "       [0, 0, 0]])"
            ]
          },
          "metadata": {
            "tags": []
          },
          "execution_count": 4
        }
      ]
    },
    {
      "cell_type": "markdown",
      "metadata": {
        "id": "I0ZZuNEcMPdW"
      },
      "source": [
        "### **Create a numpy matrix of 4*4 integers, filled with fives.**"
      ]
    },
    {
      "cell_type": "code",
      "metadata": {
        "colab": {
          "base_uri": "https://localhost:8080/"
        },
        "id": "He-hKx-lMVef",
        "outputId": "47a3a83d-1de9-4add-8fd6-d2179d8a2741"
      },
      "source": [
        "np.ones([4,4],dtype=np.int)* 5"
      ],
      "execution_count": null,
      "outputs": [
        {
          "output_type": "execute_result",
          "data": {
            "text/plain": [
              "array([[5, 5, 5, 5],\n",
              "       [5, 5, 5, 5],\n",
              "       [5, 5, 5, 5],\n",
              "       [5, 5, 5, 5]])"
            ]
          },
          "metadata": {
            "tags": []
          },
          "execution_count": 11
        }
      ]
    },
    {
      "cell_type": "markdown",
      "metadata": {
        "id": "ne4cSOaPM2qz"
      },
      "source": [
        "### **Given the X numpy matrix, create a new numpy matrix with the same shape and type as X, filled with sevens.**"
      ]
    },
    {
      "cell_type": "code",
      "metadata": {
        "id": "57ZGBSJaMsx3"
      },
      "source": [
        "X = np.array([[2,3],[6,2]],dtype=np.int)"
      ],
      "execution_count": null,
      "outputs": []
    },
    {
      "cell_type": "code",
      "metadata": {
        "colab": {
          "base_uri": "https://localhost:8080/"
        },
        "id": "8c7_6EGlNo_k",
        "outputId": "b8af79f9-fff2-48d3-b7d2-a854fb84298a"
      },
      "source": [
        "X"
      ],
      "execution_count": null,
      "outputs": [
        {
          "output_type": "execute_result",
          "data": {
            "text/plain": [
              "array([[2, 3],\n",
              "       [6, 2]])"
            ]
          },
          "metadata": {
            "tags": []
          },
          "execution_count": 13
        }
      ]
    },
    {
      "cell_type": "code",
      "metadata": {
        "colab": {
          "base_uri": "https://localhost:8080/"
        },
        "id": "9q9RUGbgN0Zt",
        "outputId": "05b568fc-cba7-4a38-9a19-dc5c9b111406"
      },
      "source": [
        "np.ones_like(X) * 7"
      ],
      "execution_count": null,
      "outputs": [
        {
          "output_type": "execute_result",
          "data": {
            "text/plain": [
              "array([[7, 7],\n",
              "       [7, 7]])"
            ]
          },
          "metadata": {
            "tags": []
          },
          "execution_count": 14
        }
      ]
    },
    {
      "cell_type": "markdown",
      "metadata": {
        "id": "CUpdvEXxN8r1"
      },
      "source": [
        "### **Create a 3*3 identity numpy matrix with ones on the diagonal and zeros elsewhere.**"
      ]
    },
    {
      "cell_type": "code",
      "metadata": {
        "colab": {
          "base_uri": "https://localhost:8080/"
        },
        "id": "_NquSCykN_hs",
        "outputId": "e975b8f7-8867-4e0f-d341-2e781ea71909"
      },
      "source": [
        "np.identity(3,dtype=np.int)"
      ],
      "execution_count": null,
      "outputs": [
        {
          "output_type": "execute_result",
          "data": {
            "text/plain": [
              "array([[1, 0, 0],\n",
              "       [0, 1, 0],\n",
              "       [0, 0, 1]])"
            ]
          },
          "metadata": {
            "tags": []
          },
          "execution_count": 16
        }
      ]
    },
    {
      "cell_type": "code",
      "metadata": {
        "colab": {
          "base_uri": "https://localhost:8080/"
        },
        "id": "jxRvLsL-OLrD",
        "outputId": "fd1d4829-7326-43a3-f363-1019fb01c100"
      },
      "source": [
        "np.eye(3)"
      ],
      "execution_count": null,
      "outputs": [
        {
          "output_type": "execute_result",
          "data": {
            "text/plain": [
              "array([[1., 0., 0.],\n",
              "       [0., 1., 0.],\n",
              "       [0., 0., 1.]])"
            ]
          },
          "metadata": {
            "tags": []
          },
          "execution_count": 17
        }
      ]
    },
    {
      "cell_type": "markdown",
      "metadata": {
        "id": "nXYZrHDfOYtV"
      },
      "source": [
        "### **Create a numpy array, filled with 3 random integer values between 1 and 10.**"
      ]
    },
    {
      "cell_type": "code",
      "metadata": {
        "colab": {
          "base_uri": "https://localhost:8080/"
        },
        "id": "nIRHgAc7OU21",
        "outputId": "23afde85-7710-4c6f-dc96-934ff3ac9e78"
      },
      "source": [
        "np.random.randint(10, size=3)"
      ],
      "execution_count": null,
      "outputs": [
        {
          "output_type": "execute_result",
          "data": {
            "text/plain": [
              "array([1, 6, 7])"
            ]
          },
          "metadata": {
            "tags": []
          },
          "execution_count": 18
        }
      ]
    },
    {
      "cell_type": "markdown",
      "metadata": {
        "id": "C8YCkoKJOmN6"
      },
      "source": [
        "### **Create a 3\\*3\\*3 numpy matrix, filled with random float values.**"
      ]
    },
    {
      "cell_type": "code",
      "metadata": {
        "colab": {
          "base_uri": "https://localhost:8080/"
        },
        "id": "VmFlm0TPOzQc",
        "outputId": "588845ce-424c-4b1a-8c53-4b7bebdac6d7"
      },
      "source": [
        "np.random.random((3,3,3))"
      ],
      "execution_count": null,
      "outputs": [
        {
          "output_type": "execute_result",
          "data": {
            "text/plain": [
              "array([[[0.77816065, 0.39676549, 0.4979198 ],\n",
              "        [0.65181979, 0.35239082, 0.12822067],\n",
              "        [0.92109853, 0.56592627, 0.87306983]],\n",
              "\n",
              "       [[0.12226835, 0.37371023, 0.21486218],\n",
              "        [0.84459493, 0.02749274, 0.19232218],\n",
              "        [0.7486585 , 0.78613566, 0.72296729]],\n",
              "\n",
              "       [[0.06258759, 0.24997147, 0.56801871],\n",
              "        [0.79090943, 0.51011734, 0.19903736],\n",
              "        [0.81843114, 0.94004281, 0.40733426]]])"
            ]
          },
          "metadata": {
            "tags": []
          },
          "execution_count": 23
        }
      ]
    },
    {
      "cell_type": "code",
      "metadata": {
        "colab": {
          "base_uri": "https://localhost:8080/"
        },
        "id": "uAkeQJtcPEZ0",
        "outputId": "c3c762e5-2508-4be7-fbbb-f0c7b5159f37"
      },
      "source": [
        "np.random.randn(3,3,3)"
      ],
      "execution_count": null,
      "outputs": [
        {
          "output_type": "execute_result",
          "data": {
            "text/plain": [
              "array([[[ 1.79316077,  1.31260486,  2.05726304],\n",
              "        [-0.19517527,  0.59610503,  1.8682225 ],\n",
              "        [-0.23254208, -0.23589895,  0.26739946]],\n",
              "\n",
              "       [[-0.03891477, -0.18615972,  0.45444203],\n",
              "        [-0.75271776,  0.90793448,  1.19583227],\n",
              "        [-0.97283743, -1.4440689 ,  0.76300288]],\n",
              "\n",
              "       [[ 0.50108582, -1.10052777, -1.08011657],\n",
              "        [-1.13674077, -0.30010354, -2.04344292],\n",
              "        [-0.53420284, -0.64324844,  1.18438253]]])"
            ]
          },
          "metadata": {
            "tags": []
          },
          "execution_count": 25
        }
      ]
    },
    {
      "cell_type": "markdown",
      "metadata": {
        "id": "5ayY-VuNP36_"
      },
      "source": [
        "### **Given the X python list convert it to an Y numpy array**"
      ]
    },
    {
      "cell_type": "code",
      "metadata": {
        "colab": {
          "base_uri": "https://localhost:8080/"
        },
        "id": "03EoLn01P7qj",
        "outputId": "e82bf378-d240-4631-9945-b690e5232cb2"
      },
      "source": [
        "X = [1, 2, 3]\n",
        "print(X, type(X))\n",
        "\n",
        "Y = np.array(X)\n",
        "print(Y, type(Y))"
      ],
      "execution_count": null,
      "outputs": [
        {
          "output_type": "stream",
          "text": [
            "[1, 2, 3] <class 'list'>\n",
            "[1 2 3] <class 'numpy.ndarray'>\n"
          ],
          "name": "stdout"
        }
      ]
    },
    {
      "cell_type": "markdown",
      "metadata": {
        "id": "1O26AeO5QYOX"
      },
      "source": [
        "### **Given the X numpy array, make a copy and store it on Y.**"
      ]
    },
    {
      "cell_type": "code",
      "metadata": {
        "colab": {
          "base_uri": "https://localhost:8080/"
        },
        "id": "yil2SVndQV15",
        "outputId": "3e09784c-c7bc-4bef-ca23-da8f67df4ec7"
      },
      "source": [
        "X = np.array([5,2,3], dtype=np.int)\n",
        "print(X, id(X))\n",
        "\n",
        "Y = np.copy(X)\n",
        "print(Y, id(Y))"
      ],
      "execution_count": null,
      "outputs": [
        {
          "output_type": "stream",
          "text": [
            "[5 2 3] 140429701305248\n",
            "[5 2 3] 140429701305888\n"
          ],
          "name": "stdout"
        }
      ]
    },
    {
      "cell_type": "markdown",
      "metadata": {
        "id": "LaNpjgAQQsLz"
      },
      "source": [
        "### **Create a numpy array with numbers from 1 to 10**"
      ]
    },
    {
      "cell_type": "code",
      "metadata": {
        "colab": {
          "base_uri": "https://localhost:8080/"
        },
        "id": "JzO9eJhhQvMH",
        "outputId": "32e32821-6003-49ec-aa23-bca081ed3021"
      },
      "source": [
        "np.arange(1,11)"
      ],
      "execution_count": null,
      "outputs": [
        {
          "output_type": "execute_result",
          "data": {
            "text/plain": [
              "array([ 1,  2,  3,  4,  5,  6,  7,  8,  9, 10])"
            ]
          },
          "metadata": {
            "tags": []
          },
          "execution_count": 32
        }
      ]
    },
    {
      "cell_type": "markdown",
      "metadata": {
        "id": "wKV-OXalQ8sl"
      },
      "source": [
        "### **Create a numpy array with the odd numbers between 1 to 10**"
      ]
    },
    {
      "cell_type": "code",
      "metadata": {
        "colab": {
          "base_uri": "https://localhost:8080/"
        },
        "id": "DDNrND_NQ_mz",
        "outputId": "b8b81075-1ff4-4de0-c251-6bd7b508c2fa"
      },
      "source": [
        "np.arange(1,11,2)"
      ],
      "execution_count": null,
      "outputs": [
        {
          "output_type": "execute_result",
          "data": {
            "text/plain": [
              "array([1, 3, 5, 7, 9])"
            ]
          },
          "metadata": {
            "tags": []
          },
          "execution_count": 33
        }
      ]
    },
    {
      "cell_type": "markdown",
      "metadata": {
        "id": "BrOsCS0ORQtt"
      },
      "source": [
        "### **Create a numpy array with numbers from 1 to 10, in descending order**"
      ]
    },
    {
      "cell_type": "code",
      "metadata": {
        "colab": {
          "base_uri": "https://localhost:8080/"
        },
        "id": "mMXmyNkqRCmm",
        "outputId": "89b178b3-dca9-42b2-bb81-5dc1f51f0969"
      },
      "source": [
        "np.arange(1,11)[::-1]"
      ],
      "execution_count": null,
      "outputs": [
        {
          "output_type": "execute_result",
          "data": {
            "text/plain": [
              "array([10,  9,  8,  7,  6,  5,  4,  3,  2,  1])"
            ]
          },
          "metadata": {
            "tags": []
          },
          "execution_count": 40
        }
      ]
    },
    {
      "cell_type": "markdown",
      "metadata": {
        "id": "qIg0h__aT1df"
      },
      "source": [
        "### **Create a 3*3 numpy matrix, filled with values ranging from 0 to 8**"
      ]
    },
    {
      "cell_type": "code",
      "metadata": {
        "colab": {
          "base_uri": "https://localhost:8080/"
        },
        "id": "XmsPgrdcRd7I",
        "outputId": "1ef58d53-dbb2-4e0f-9605-dee93e65bf52"
      },
      "source": [
        "np.arange(9).reshape([3,3])"
      ],
      "execution_count": null,
      "outputs": [
        {
          "output_type": "execute_result",
          "data": {
            "text/plain": [
              "array([[0, 1, 2],\n",
              "       [3, 4, 5],\n",
              "       [6, 7, 8]])"
            ]
          },
          "metadata": {
            "tags": []
          },
          "execution_count": 43
        }
      ]
    },
    {
      "cell_type": "markdown",
      "metadata": {
        "id": "vnC5E9bPUXJG"
      },
      "source": [
        "### **Show the memory size of the given Z numpy matrix**"
      ]
    },
    {
      "cell_type": "code",
      "metadata": {
        "colab": {
          "base_uri": "https://localhost:8080/"
        },
        "id": "TlYM_IMpUarQ",
        "outputId": "4d336f2f-ff9a-497e-aa53-899eea32d74b"
      },
      "source": [
        "Z = np.ones((10,10),dtype=np.float) * 100\n",
        "Z"
      ],
      "execution_count": null,
      "outputs": [
        {
          "output_type": "execute_result",
          "data": {
            "text/plain": [
              "array([[100., 100., 100., 100., 100., 100., 100., 100., 100., 100.],\n",
              "       [100., 100., 100., 100., 100., 100., 100., 100., 100., 100.],\n",
              "       [100., 100., 100., 100., 100., 100., 100., 100., 100., 100.],\n",
              "       [100., 100., 100., 100., 100., 100., 100., 100., 100., 100.],\n",
              "       [100., 100., 100., 100., 100., 100., 100., 100., 100., 100.],\n",
              "       [100., 100., 100., 100., 100., 100., 100., 100., 100., 100.],\n",
              "       [100., 100., 100., 100., 100., 100., 100., 100., 100., 100.],\n",
              "       [100., 100., 100., 100., 100., 100., 100., 100., 100., 100.],\n",
              "       [100., 100., 100., 100., 100., 100., 100., 100., 100., 100.],\n",
              "       [100., 100., 100., 100., 100., 100., 100., 100., 100., 100.]])"
            ]
          },
          "metadata": {
            "tags": []
          },
          "execution_count": 55
        }
      ]
    },
    {
      "cell_type": "code",
      "metadata": {
        "colab": {
          "base_uri": "https://localhost:8080/"
        },
        "id": "-wj-BM-SUjtf",
        "outputId": "2e1f5559-12a2-4ba5-d7b7-137a2d4f7569"
      },
      "source": [
        "print(\"%d bytes\" % (Z.size * Z.itemsize))"
      ],
      "execution_count": null,
      "outputs": [
        {
          "output_type": "stream",
          "text": [
            "800 bytes\n"
          ],
          "name": "stdout"
        }
      ]
    },
    {
      "cell_type": "markdown",
      "metadata": {
        "id": "fsH4E0OfVPoS"
      },
      "source": [
        "# **Array indexation**"
      ]
    },
    {
      "cell_type": "markdown",
      "metadata": {
        "id": "5GVJzgjOVSnt"
      },
      "source": [
        "### **Given the X numpy array, show it's first element**"
      ]
    },
    {
      "cell_type": "code",
      "metadata": {
        "colab": {
          "base_uri": "https://localhost:8080/",
          "height": 39
        },
        "id": "2JkDYp-5VZMj",
        "outputId": "05019940-c580-4837-8666-3e914e1e66e2"
      },
      "source": [
        "X = np.array(['A','B','C','D','E'])\n",
        "X[0]"
      ],
      "execution_count": null,
      "outputs": [
        {
          "output_type": "execute_result",
          "data": {
            "application/vnd.google.colaboratory.intrinsic+json": {
              "type": "string"
            },
            "text/plain": [
              "'A'"
            ]
          },
          "metadata": {
            "tags": []
          },
          "execution_count": 3
        }
      ]
    },
    {
      "cell_type": "markdown",
      "metadata": {
        "id": "5yp7VL5YVhuY"
      },
      "source": [
        "### **Given the X numpy array, show it's last element**"
      ]
    },
    {
      "cell_type": "code",
      "metadata": {
        "colab": {
          "base_uri": "https://localhost:8080/",
          "height": 39
        },
        "id": "eofUZGjLVj28",
        "outputId": "14659d85-2158-457b-da0b-dc5aca0ea46e"
      },
      "source": [
        "X[-1]\n",
        "X[len(X)-1]"
      ],
      "execution_count": null,
      "outputs": [
        {
          "output_type": "execute_result",
          "data": {
            "application/vnd.google.colaboratory.intrinsic+json": {
              "type": "string"
            },
            "text/plain": [
              "'E'"
            ]
          },
          "metadata": {
            "tags": []
          },
          "execution_count": 62
        }
      ]
    },
    {
      "cell_type": "markdown",
      "metadata": {
        "id": "ehzUGHSAcN47"
      },
      "source": [
        "### **Given the X numpy array, show it's first three elements**"
      ]
    },
    {
      "cell_type": "code",
      "metadata": {
        "colab": {
          "base_uri": "https://localhost:8080/"
        },
        "id": "5iL-lOcPcS7E",
        "outputId": "c7d3ff9d-c330-4cd2-f63e-7f59ed5c23b2"
      },
      "source": [
        "X[0:3]"
      ],
      "execution_count": null,
      "outputs": [
        {
          "output_type": "execute_result",
          "data": {
            "text/plain": [
              "array(['A', 'B', 'C'], dtype='<U1')"
            ]
          },
          "metadata": {
            "tags": []
          },
          "execution_count": 4
        }
      ]
    },
    {
      "cell_type": "markdown",
      "metadata": {
        "id": "2lX-zs4ccdzW"
      },
      "source": [
        "### **Given the X numpy array, show all middle elements**"
      ]
    },
    {
      "cell_type": "code",
      "metadata": {
        "colab": {
          "base_uri": "https://localhost:8080/"
        },
        "id": "RY-WW42qchKH",
        "outputId": "caf5f60d-e7db-45f9-dc1e-cb6582c1f846"
      },
      "source": [
        "X[1:-1]"
      ],
      "execution_count": null,
      "outputs": [
        {
          "output_type": "execute_result",
          "data": {
            "text/plain": [
              "array(['B', 'C', 'D'], dtype='<U1')"
            ]
          },
          "metadata": {
            "tags": []
          },
          "execution_count": 6
        }
      ]
    },
    {
      "cell_type": "markdown",
      "metadata": {
        "id": "X6ALK8ZEcvZ0"
      },
      "source": [
        "### **Given the X numpy array, show the elements in reverse position**"
      ]
    },
    {
      "cell_type": "code",
      "metadata": {
        "colab": {
          "base_uri": "https://localhost:8080/"
        },
        "id": "eS_4g9X2cxo_",
        "outputId": "7eb2be56-42d9-44f7-b0ae-22fbe5ffe691"
      },
      "source": [
        "X[::-1]"
      ],
      "execution_count": null,
      "outputs": [
        {
          "output_type": "execute_result",
          "data": {
            "text/plain": [
              "array(['E', 'D', 'C', 'B', 'A'], dtype='<U1')"
            ]
          },
          "metadata": {
            "tags": []
          },
          "execution_count": 7
        }
      ]
    },
    {
      "cell_type": "markdown",
      "metadata": {
        "id": "bOUl3z4qc3js"
      },
      "source": [
        "### **Given the X numpy array, show the elements in an odd position**"
      ]
    },
    {
      "cell_type": "code",
      "metadata": {
        "colab": {
          "base_uri": "https://localhost:8080/"
        },
        "id": "7hdiJUffc59P",
        "outputId": "ca000a02-79a7-4754-baf7-fe9924f308a6"
      },
      "source": [
        "X[::2]"
      ],
      "execution_count": null,
      "outputs": [
        {
          "output_type": "execute_result",
          "data": {
            "text/plain": [
              "array(['A', 'C', 'E'], dtype='<U1')"
            ]
          },
          "metadata": {
            "tags": []
          },
          "execution_count": 9
        }
      ]
    },
    {
      "cell_type": "code",
      "metadata": {
        "colab": {
          "base_uri": "https://localhost:8080/"
        },
        "id": "icSHoNEAdLJy",
        "outputId": "fbc35837-327b-4590-f69b-507a21f6115f"
      },
      "source": [
        "X[[0,2,-1]]"
      ],
      "execution_count": null,
      "outputs": [
        {
          "output_type": "execute_result",
          "data": {
            "text/plain": [
              "array(['A', 'C', 'E'], dtype='<U1')"
            ]
          },
          "metadata": {
            "tags": []
          },
          "execution_count": 10
        }
      ]
    },
    {
      "cell_type": "markdown",
      "metadata": {
        "id": "IP2ZatNEdRnS"
      },
      "source": [
        "### **Given the X numpy matrix, show the first row elements**"
      ]
    },
    {
      "cell_type": "code",
      "metadata": {
        "colab": {
          "base_uri": "https://localhost:8080/"
        },
        "id": "T47Uk82HdUfM",
        "outputId": "302ef5d9-0d13-45b0-f84f-ab33d9d91e54"
      },
      "source": [
        "X = np.array([\n",
        "    [1,   2,  3,  4],\n",
        "    [5,   6,  7,  8],\n",
        "    [9,  10, 11, 12],\n",
        "    [13, 14, 15, 16]\n",
        "])\n",
        "\n",
        "X[0]"
      ],
      "execution_count": null,
      "outputs": [
        {
          "output_type": "execute_result",
          "data": {
            "text/plain": [
              "array([1, 2, 3, 4])"
            ]
          },
          "metadata": {
            "tags": []
          },
          "execution_count": 12
        }
      ]
    },
    {
      "cell_type": "markdown",
      "metadata": {
        "id": "B9izUHBfdcN_"
      },
      "source": [
        "### **Given the X numpy matrix, show the last row elements**"
      ]
    },
    {
      "cell_type": "code",
      "metadata": {
        "colab": {
          "base_uri": "https://localhost:8080/"
        },
        "id": "tapsT_o3debs",
        "outputId": "6e4512fa-954d-4b9c-e31b-f8017f99ad4a"
      },
      "source": [
        "X[-1]"
      ],
      "execution_count": null,
      "outputs": [
        {
          "output_type": "execute_result",
          "data": {
            "text/plain": [
              "array([13, 14, 15, 16])"
            ]
          },
          "metadata": {
            "tags": []
          },
          "execution_count": 13
        }
      ]
    },
    {
      "cell_type": "markdown",
      "metadata": {
        "id": "YBIyUF29diCl"
      },
      "source": [
        "### **Given the X numpy matrix, show the first element on first row**"
      ]
    },
    {
      "cell_type": "code",
      "metadata": {
        "colab": {
          "base_uri": "https://localhost:8080/"
        },
        "id": "GwuJteqVdkBz",
        "outputId": "4d4d3c09-77be-47f8-b3e2-de19d1f8f9c1"
      },
      "source": [
        "X[0,0]"
      ],
      "execution_count": null,
      "outputs": [
        {
          "output_type": "execute_result",
          "data": {
            "text/plain": [
              "1"
            ]
          },
          "metadata": {
            "tags": []
          },
          "execution_count": 14
        }
      ]
    },
    {
      "cell_type": "markdown",
      "metadata": {
        "id": "vBAqPmUkgTul"
      },
      "source": [
        "### **Given the X numpy matrix, show the last element on last row**"
      ]
    },
    {
      "cell_type": "code",
      "metadata": {
        "colab": {
          "base_uri": "https://localhost:8080/"
        },
        "id": "lyx5LS9SgV8E",
        "outputId": "c3a483fb-2010-46f4-d441-f425ea4ce0e7"
      },
      "source": [
        "X[-1,-1]"
      ],
      "execution_count": null,
      "outputs": [
        {
          "output_type": "execute_result",
          "data": {
            "text/plain": [
              "16"
            ]
          },
          "metadata": {
            "tags": []
          },
          "execution_count": 15
        }
      ]
    },
    {
      "cell_type": "markdown",
      "metadata": {
        "id": "XauYDTylgchV"
      },
      "source": [
        "### **Given the X numpy matrix, show the middle row elements**"
      ]
    },
    {
      "cell_type": "code",
      "metadata": {
        "colab": {
          "base_uri": "https://localhost:8080/"
        },
        "id": "AEbQzxR9ge0q",
        "outputId": "a9a9070a-218d-45a5-d121-29d276a45856"
      },
      "source": [
        "X[1:-1, :]"
      ],
      "execution_count": null,
      "outputs": [
        {
          "output_type": "execute_result",
          "data": {
            "text/plain": [
              "array([[ 5,  6,  7,  8],\n",
              "       [ 9, 10, 11, 12]])"
            ]
          },
          "metadata": {
            "tags": []
          },
          "execution_count": 19
        }
      ]
    },
    {
      "cell_type": "markdown",
      "metadata": {
        "id": "wtS8HfVuhafB"
      },
      "source": [
        "### **Given the X numpy matrix, show the first two elements on the first two rows**"
      ]
    },
    {
      "cell_type": "code",
      "metadata": {
        "colab": {
          "base_uri": "https://localhost:8080/"
        },
        "id": "o1Vzu1yShefM",
        "outputId": "bf6eeeb0-aa55-4d7a-d83c-74d157524b6d"
      },
      "source": [
        "#X[0:2,0:2]\n",
        "X[:2,:2]"
      ],
      "execution_count": null,
      "outputs": [
        {
          "output_type": "execute_result",
          "data": {
            "text/plain": [
              "array([[1, 2],\n",
              "       [5, 6]])"
            ]
          },
          "metadata": {
            "tags": []
          },
          "execution_count": 22
        }
      ]
    },
    {
      "cell_type": "markdown",
      "metadata": {
        "id": "LAOogo_EhurO"
      },
      "source": [
        "### **Given the X numpy matrix, show the last two elements on the last two rows**"
      ]
    },
    {
      "cell_type": "code",
      "metadata": {
        "colab": {
          "base_uri": "https://localhost:8080/"
        },
        "id": "2MUUAuHZhw0F",
        "outputId": "cd9847d5-bf8c-4bfb-a8ec-7841080fc439"
      },
      "source": [
        "X[-2: ,-2:]"
      ],
      "execution_count": null,
      "outputs": [
        {
          "output_type": "execute_result",
          "data": {
            "text/plain": [
              "array([[11, 12],\n",
              "       [15, 16]])"
            ]
          },
          "metadata": {
            "tags": []
          },
          "execution_count": 23
        }
      ]
    },
    {
      "cell_type": "markdown",
      "metadata": {
        "id": "r3Fi0eReiDaZ"
      },
      "source": [
        "# **Array manipulation**\n",
        "\n",
        "### **Convert the given integer numpy array to float**"
      ]
    },
    {
      "cell_type": "code",
      "metadata": {
        "colab": {
          "base_uri": "https://localhost:8080/"
        },
        "id": "kg3q55hViKbW",
        "outputId": "853fda73-059d-4eac-e079-79022a8b3a29"
      },
      "source": [
        "\n",
        "X = [-5, -3, 0, 10, 40]\n",
        "np.array(X, dtype=np.float)"
      ],
      "execution_count": null,
      "outputs": [
        {
          "output_type": "execute_result",
          "data": {
            "text/plain": [
              "array([-5., -3.,  0., 10., 40.])"
            ]
          },
          "metadata": {
            "tags": []
          },
          "execution_count": 24
        }
      ]
    },
    {
      "cell_type": "markdown",
      "metadata": {
        "id": "i7ERZ_cliW3h"
      },
      "source": [
        "### **Reverse the given numpy array (first element becomes last)**"
      ]
    },
    {
      "cell_type": "code",
      "metadata": {
        "colab": {
          "base_uri": "https://localhost:8080/"
        },
        "id": "Oc-LF7FYiZYU",
        "outputId": "1958f0a4-cd65-4d64-c355-c25809d3d748"
      },
      "source": [
        "A = X[::-1]\n",
        "A"
      ],
      "execution_count": null,
      "outputs": [
        {
          "output_type": "execute_result",
          "data": {
            "text/plain": [
              "[40, 10, 0, -3, -5]"
            ]
          },
          "metadata": {
            "tags": []
          },
          "execution_count": 27
        }
      ]
    },
    {
      "cell_type": "markdown",
      "metadata": {
        "id": "hI71UfPji9tj"
      },
      "source": [
        "### **Order (sort) the given numpy array**"
      ]
    },
    {
      "cell_type": "code",
      "metadata": {
        "colab": {
          "base_uri": "https://localhost:8080/"
        },
        "id": "LGWer7bmi_90",
        "outputId": "9f59ced1-a958-45d8-cc59-025b27d84d11"
      },
      "source": [
        "X = [0, 10, -5, 40, -3]\n",
        "X.sort()\n",
        "X"
      ],
      "execution_count": null,
      "outputs": [
        {
          "output_type": "execute_result",
          "data": {
            "text/plain": [
              "[-5, -3, 0, 10, 40]"
            ]
          },
          "metadata": {
            "tags": []
          },
          "execution_count": 30
        }
      ]
    },
    {
      "cell_type": "markdown",
      "metadata": {
        "id": "Exr5JVapjOpH"
      },
      "source": [
        "### **Given the X numpy array, set the fifth element equal to 1**"
      ]
    },
    {
      "cell_type": "code",
      "metadata": {
        "colab": {
          "base_uri": "https://localhost:8080/"
        },
        "id": "1bYcYTdkjRiC",
        "outputId": "fd1c08a8-35c0-4a9e-c71e-7d8f9a938c4f"
      },
      "source": [
        "X[4] = 1\n",
        "X"
      ],
      "execution_count": null,
      "outputs": [
        {
          "output_type": "execute_result",
          "data": {
            "text/plain": [
              "[-5, -3, 0, 10, 1]"
            ]
          },
          "metadata": {
            "tags": []
          },
          "execution_count": 32
        }
      ]
    },
    {
      "cell_type": "markdown",
      "metadata": {
        "id": "yJU2MUUOjaUI"
      },
      "source": [
        "### **Given the X numpy array, change the 50 with a 40**"
      ]
    },
    {
      "cell_type": "code",
      "metadata": {
        "colab": {
          "base_uri": "https://localhost:8080/"
        },
        "id": "63X600CCjdsY",
        "outputId": "af39532a-10b2-41a7-c692-db806c120e83"
      },
      "source": [
        "\n",
        "X = np.array([10, 20, 30, 50])\n",
        "X[-1] =40\n",
        "X"
      ],
      "execution_count": null,
      "outputs": [
        {
          "output_type": "execute_result",
          "data": {
            "text/plain": [
              "array([10, 20, 30, 40])"
            ]
          },
          "metadata": {
            "tags": []
          },
          "execution_count": 33
        }
      ]
    },
    {
      "cell_type": "markdown",
      "metadata": {
        "id": "WADhcMHKjm2A"
      },
      "source": [
        "### **Given the X numpy matrix, change the last row with all 1**"
      ]
    },
    {
      "cell_type": "code",
      "metadata": {
        "colab": {
          "base_uri": "https://localhost:8080/"
        },
        "id": "RxivVe8LjpIJ",
        "outputId": "4698a0af-9414-4143-fc7e-7aab28ddbbe7"
      },
      "source": [
        "X = np.array([\n",
        "    [1,   2,  3,  4],\n",
        "    [5,   6,  7,  8],\n",
        "    [9,  10, 11, 12],\n",
        "    [13, 14, 15, 16]\n",
        "])\n",
        "X[-1] =1\n",
        "X"
      ],
      "execution_count": null,
      "outputs": [
        {
          "output_type": "execute_result",
          "data": {
            "text/plain": [
              "array([[ 1,  2,  3,  4],\n",
              "       [ 5,  6,  7,  8],\n",
              "       [ 9, 10, 11, 12],\n",
              "       [ 1,  1,  1,  1]])"
            ]
          },
          "metadata": {
            "tags": []
          },
          "execution_count": 35
        }
      ]
    },
    {
      "cell_type": "markdown",
      "metadata": {
        "id": "4aNbio-Tjxmq"
      },
      "source": [
        "### **Given the X numpy matrix, change the last item on the last row with a 0**"
      ]
    },
    {
      "cell_type": "code",
      "metadata": {
        "colab": {
          "base_uri": "https://localhost:8080/"
        },
        "id": "EbbtU1D2j0WN",
        "outputId": "85fc9b65-4558-4414-ab46-ba2168aad7af"
      },
      "source": [
        "X = np.array([\n",
        "    [1,   2,  3,  4],\n",
        "    [5,   6,  7,  8],\n",
        "    [9,  10, 11, 12],\n",
        "    [13, 14, 15, 16]\n",
        "])\n",
        "X[-1,-1] = 0\n",
        "X"
      ],
      "execution_count": null,
      "outputs": [
        {
          "output_type": "execute_result",
          "data": {
            "text/plain": [
              "array([[ 1,  2,  3,  4],\n",
              "       [ 5,  6,  7,  8],\n",
              "       [ 9, 10, 11, 12],\n",
              "       [13, 14, 15,  0]])"
            ]
          },
          "metadata": {
            "tags": []
          },
          "execution_count": 37
        }
      ]
    },
    {
      "cell_type": "markdown",
      "metadata": {
        "id": "bIcEz5WUj8J5"
      },
      "source": [
        "### **Given the X numpy matrix, add 5 to every element**"
      ]
    },
    {
      "cell_type": "code",
      "metadata": {
        "colab": {
          "base_uri": "https://localhost:8080/"
        },
        "id": "8Bg67qUYj-aS",
        "outputId": "cd64a5b5-dc2c-4c86-f082-0113d51d7524"
      },
      "source": [
        "X = np.arange(1,17).reshape(4,4)\n",
        "X + 5"
      ],
      "execution_count": null,
      "outputs": [
        {
          "output_type": "execute_result",
          "data": {
            "text/plain": [
              "array([[ 6,  7,  8,  9],\n",
              "       [10, 11, 12, 13],\n",
              "       [14, 15, 16, 17],\n",
              "       [18, 19, 20, 21]])"
            ]
          },
          "metadata": {
            "tags": []
          },
          "execution_count": 40
        }
      ]
    },
    {
      "cell_type": "markdown",
      "metadata": {
        "id": "4k3g3vb6kVi3"
      },
      "source": [
        "# **Boolean arrays (also called masks)**\n",
        "\n",
        "### **Given the X numpy array, make a mask showing negative elements**"
      ]
    },
    {
      "cell_type": "code",
      "metadata": {
        "colab": {
          "base_uri": "https://localhost:8080/"
        },
        "id": "-2g58j6TkaZ-",
        "outputId": "f2e76c82-495e-42be-8de1-665acc5df034"
      },
      "source": [
        "X = np.array([-1,2,0,-4,5,6,0,0,-9,10])\n",
        "X\n",
        "mask = X <= 0\n",
        "mask"
      ],
      "execution_count": null,
      "outputs": [
        {
          "output_type": "execute_result",
          "data": {
            "text/plain": [
              "array([ True, False,  True,  True, False, False,  True,  True,  True,\n",
              "       False])"
            ]
          },
          "metadata": {
            "tags": []
          },
          "execution_count": 44
        }
      ]
    },
    {
      "cell_type": "markdown",
      "metadata": {
        "id": "Z9cD6-vxkuJY"
      },
      "source": [
        "### **Given the X numpy array, get the negative elements**"
      ]
    },
    {
      "cell_type": "code",
      "metadata": {
        "colab": {
          "base_uri": "https://localhost:8080/"
        },
        "id": "Ppxu7pFMkwKD",
        "outputId": "4794cd09-e690-413a-8669-c913813cbdf7"
      },
      "source": [
        "X[mask]"
      ],
      "execution_count": null,
      "outputs": [
        {
          "output_type": "execute_result",
          "data": {
            "text/plain": [
              "array([-1,  0, -4,  0,  0, -9])"
            ]
          },
          "metadata": {
            "tags": []
          },
          "execution_count": 45
        }
      ]
    },
    {
      "cell_type": "markdown",
      "metadata": {
        "id": "Z71NtMi-k4H9"
      },
      "source": [
        "### **Given the X numpy array, get numbers higher than 5**"
      ]
    },
    {
      "cell_type": "code",
      "metadata": {
        "colab": {
          "base_uri": "https://localhost:8080/"
        },
        "id": "lIIGXrwpk6ZD",
        "outputId": "e82481ee-fe1b-4e9a-b295-86da9801228e"
      },
      "source": [
        "mask = X > 5\n",
        "X[mask]"
      ],
      "execution_count": null,
      "outputs": [
        {
          "output_type": "execute_result",
          "data": {
            "text/plain": [
              "array([ 6, 10])"
            ]
          },
          "metadata": {
            "tags": []
          },
          "execution_count": 46
        }
      ]
    },
    {
      "cell_type": "markdown",
      "metadata": {
        "id": "aushCxwIlBVb"
      },
      "source": [
        "### **Given the X numpy array, get numbers higher than the elements mean**"
      ]
    },
    {
      "cell_type": "code",
      "metadata": {
        "colab": {
          "base_uri": "https://localhost:8080/"
        },
        "id": "5GVMfBQulDke",
        "outputId": "2640558a-f4b8-4844-89a6-be5df49241ab"
      },
      "source": [
        "mean = X.mean()\n",
        "mask = X > mean\n",
        "X[mask]"
      ],
      "execution_count": null,
      "outputs": [
        {
          "output_type": "execute_result",
          "data": {
            "text/plain": [
              "array([ 2,  5,  6, 10])"
            ]
          },
          "metadata": {
            "tags": []
          },
          "execution_count": 49
        }
      ]
    },
    {
      "cell_type": "markdown",
      "metadata": {
        "id": "fVTaEg3KlTcb"
      },
      "source": [
        "### **Given the X numpy array, get numbers equal to 2 or 10**"
      ]
    },
    {
      "cell_type": "code",
      "metadata": {
        "colab": {
          "base_uri": "https://localhost:8080/"
        },
        "id": "QX12QYRglVc3",
        "outputId": "f889ee6b-c779-4854-d724-556106157cf1"
      },
      "source": [
        "mask = (X ==2)| (X == 10)\n",
        "X[mask]"
      ],
      "execution_count": null,
      "outputs": [
        {
          "output_type": "execute_result",
          "data": {
            "text/plain": [
              "array([ 2, 10])"
            ]
          },
          "metadata": {
            "tags": []
          },
          "execution_count": 51
        }
      ]
    },
    {
      "cell_type": "markdown",
      "metadata": {
        "id": "nePe1EN1l8Q_"
      },
      "source": [
        "# **Logic functions**\n",
        "\n",
        "### **Given the X numpy array, return True if none of its elements is zero**"
      ]
    },
    {
      "cell_type": "code",
      "metadata": {
        "colab": {
          "base_uri": "https://localhost:8080/"
        },
        "id": "Q1DtppdKmBvk",
        "outputId": "2d5451f6-3f9d-487a-8daa-e48b6dd1c4cc"
      },
      "source": [
        "X = np.array([-1, 2, 0, -4, 5, 6, 0, 0, -9, 10])\n",
        "X.all()"
      ],
      "execution_count": null,
      "outputs": [
        {
          "output_type": "execute_result",
          "data": {
            "text/plain": [
              "False"
            ]
          },
          "metadata": {
            "tags": []
          },
          "execution_count": 52
        }
      ]
    },
    {
      "cell_type": "markdown",
      "metadata": {
        "id": "ZnMWt9bqmIhP"
      },
      "source": [
        "### ** Given the X numpy array, return True if any of its elements is zero**"
      ]
    },
    {
      "cell_type": "code",
      "metadata": {
        "colab": {
          "base_uri": "https://localhost:8080/"
        },
        "id": "527GBR8DmK6X",
        "outputId": "fd3f59e4-0dec-42aa-c576-dcbeab820abc"
      },
      "source": [
        "X.any()"
      ],
      "execution_count": null,
      "outputs": [
        {
          "output_type": "execute_result",
          "data": {
            "text/plain": [
              "True"
            ]
          },
          "metadata": {
            "tags": []
          },
          "execution_count": 53
        }
      ]
    },
    {
      "cell_type": "markdown",
      "metadata": {
        "id": "kQORAlB-mPG4"
      },
      "source": [
        "# **Summary statistics**\n",
        "\n",
        "### **Given the X numpy array, show the sum of its elements**"
      ]
    },
    {
      "cell_type": "code",
      "metadata": {
        "colab": {
          "base_uri": "https://localhost:8080/"
        },
        "id": "mK6BISJlmTyd",
        "outputId": "2e41e7d3-e993-4388-8fb3-a835d413a5d7"
      },
      "source": [
        "X = np.array([3, 5, 6, 7, 2, 3, 4, 9, 4])\n",
        "#X.sum()\n",
        "np.sum(X)"
      ],
      "execution_count": null,
      "outputs": [
        {
          "output_type": "execute_result",
          "data": {
            "text/plain": [
              "43"
            ]
          },
          "metadata": {
            "tags": []
          },
          "execution_count": 56
        }
      ]
    },
    {
      "cell_type": "markdown",
      "metadata": {
        "id": "oK0r3QU0meou"
      },
      "source": [
        "### **Given the X numpy array, show the mean value of its elements**"
      ]
    },
    {
      "cell_type": "code",
      "metadata": {
        "colab": {
          "base_uri": "https://localhost:8080/"
        },
        "id": "qmc7RB7Omgan",
        "outputId": "901a35ac-65c5-4960-f863-b7a879aef63f"
      },
      "source": [
        "X.mean()"
      ],
      "execution_count": null,
      "outputs": [
        {
          "output_type": "execute_result",
          "data": {
            "text/plain": [
              "4.777777777777778"
            ]
          },
          "metadata": {
            "tags": []
          },
          "execution_count": 57
        }
      ]
    },
    {
      "cell_type": "markdown",
      "metadata": {
        "id": "JFehYF1Zmmid"
      },
      "source": [
        "###**Given the X numpy matrix, show the sum of its columns**"
      ]
    },
    {
      "cell_type": "code",
      "metadata": {
        "colab": {
          "base_uri": "https://localhost:8080/"
        },
        "id": "701gieTrmois",
        "outputId": "fc4c4df0-3cf9-4e1f-e45d-622d6eee9f29"
      },
      "source": [
        "X = np.array([\n",
        "    [1,   2,  3,  4],\n",
        "    [5,   6,  7,  8],\n",
        "    [9,  10, 11, 12],\n",
        "    [13, 14, 15, 16]\n",
        "])\n",
        "X.sum(axis=0)"
      ],
      "execution_count": null,
      "outputs": [
        {
          "output_type": "execute_result",
          "data": {
            "text/plain": [
              "array([28, 32, 36, 40])"
            ]
          },
          "metadata": {
            "tags": []
          },
          "execution_count": 61
        }
      ]
    },
    {
      "cell_type": "markdown",
      "metadata": {
        "id": "PhWB57GCnAGg"
      },
      "source": [
        "### **Given the X numpy matrix, show the mean value of its rows**"
      ]
    },
    {
      "cell_type": "code",
      "metadata": {
        "colab": {
          "base_uri": "https://localhost:8080/"
        },
        "id": "uTq_q_nMnCeM",
        "outputId": "aab6990b-4431-43ee-c668-6b683b880dbf"
      },
      "source": [
        "X.mean(axis=1)"
      ],
      "execution_count": null,
      "outputs": [
        {
          "output_type": "execute_result",
          "data": {
            "text/plain": [
              "array([ 2.5,  6.5, 10.5, 14.5])"
            ]
          },
          "metadata": {
            "tags": []
          },
          "execution_count": 62
        }
      ]
    },
    {
      "cell_type": "markdown",
      "metadata": {
        "id": "YsrcXX3mnJ7I"
      },
      "source": [
        "### **Given the X numpy array, show the max value of its elements**"
      ]
    },
    {
      "cell_type": "code",
      "metadata": {
        "id": "f5TpDditnMLI",
        "colab": {
          "base_uri": "https://localhost:8080/"
        },
        "outputId": "408339d7-d591-420b-f9c0-12aa04897f89"
      },
      "source": [
        "X.max()"
      ],
      "execution_count": null,
      "outputs": [
        {
          "output_type": "execute_result",
          "data": {
            "text/plain": [
              "16"
            ]
          },
          "metadata": {
            "tags": []
          },
          "execution_count": 63
        }
      ]
    }
  ]
}